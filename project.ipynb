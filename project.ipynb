{
 "cells": [
  {
   "cell_type": "code",
   "execution_count": 2,
   "metadata": {},
   "outputs": [],
   "source": [
    "import pandas as pd\n",
    "from bs4 import BeautifulSoup\n",
    "import requests\n",
    "import re\n",
    "\n",
    "%run -i \"functions/scrape_platforms.py\"\n",
    "%run -i \"functions/scrape_SotU.py\""
   ]
  },
  {
   "cell_type": "markdown",
   "metadata": {},
   "source": [
    "# Text Data\n",
    "### Political Platforms"
   ]
  },
  {
   "cell_type": "code",
   "execution_count": 3,
   "metadata": {},
   "outputs": [
    {
     "data": {
      "text/html": [
       "<div>\n",
       "<style scoped>\n",
       "    .dataframe tbody tr th:only-of-type {\n",
       "        vertical-align: middle;\n",
       "    }\n",
       "\n",
       "    .dataframe tbody tr th {\n",
       "        vertical-align: top;\n",
       "    }\n",
       "\n",
       "    .dataframe thead th {\n",
       "        text-align: right;\n",
       "    }\n",
       "</style>\n",
       "<table border=\"1\" class=\"dataframe\">\n",
       "  <thead>\n",
       "    <tr style=\"text-align: right;\">\n",
       "      <th></th>\n",
       "      <th>platform</th>\n",
       "      <th>party</th>\n",
       "      <th>year</th>\n",
       "    </tr>\n",
       "  </thead>\n",
       "  <tbody>\n",
       "    <tr>\n",
       "      <td>1972-Rep</td>\n",
       "      <td>\\nPreamble\\nThis year our Republican Party has...</td>\n",
       "      <td>Republican</td>\n",
       "      <td>1972</td>\n",
       "    </tr>\n",
       "    <tr>\n",
       "      <td>1972-Dem</td>\n",
       "      <td>\\nNew Directions: 1972-76\\nSkepticism and cyni...</td>\n",
       "      <td>Democratic</td>\n",
       "      <td>1972</td>\n",
       "    </tr>\n",
       "    <tr>\n",
       "      <td>1976-Rep</td>\n",
       "      <td>\\nAdopted by the Republican National Conventio...</td>\n",
       "      <td>Republican</td>\n",
       "      <td>1976</td>\n",
       "    </tr>\n",
       "    <tr>\n",
       "      <td>1976-Dem</td>\n",
       "      <td>\\nPreamble\\nWe meet to adopt a Democratic plat...</td>\n",
       "      <td>Democratic</td>\n",
       "      <td>1976</td>\n",
       "    </tr>\n",
       "    <tr>\n",
       "      <td>1980-Rep</td>\n",
       "      <td>\\nAdopted by the Republican National Conventio...</td>\n",
       "      <td>Republican</td>\n",
       "      <td>1980</td>\n",
       "    </tr>\n",
       "  </tbody>\n",
       "</table>\n",
       "</div>"
      ],
      "text/plain": [
       "                                                   platform       party  year\n",
       "1972-Rep  \\nPreamble\\nThis year our Republican Party has...  Republican  1972\n",
       "1972-Dem  \\nNew Directions: 1972-76\\nSkepticism and cyni...  Democratic  1972\n",
       "1976-Rep  \\nAdopted by the Republican National Conventio...  Republican  1976\n",
       "1976-Dem  \\nPreamble\\nWe meet to adopt a Democratic plat...  Democratic  1976\n",
       "1980-Rep  \\nAdopted by the Republican National Conventio...  Republican  1980"
      ]
     },
     "execution_count": 3,
     "metadata": {},
     "output_type": "execute_result"
    }
   ],
   "source": [
    "years = ['1972', '1976', '1980', '1984', '1988', '1992', '1996', \n",
    "         '2000', '2008', '2012', '2016']\n",
    "platforms = scrape_platforms(years)\n",
    "platforms.head()"
   ]
  },
  {
   "cell_type": "code",
   "execution_count": 4,
   "metadata": {},
   "outputs": [
    {
     "data": {
      "text/plain": [
       "Republican    11\n",
       "Democratic    11\n",
       "Name: party, dtype: int64"
      ]
     },
     "execution_count": 4,
     "metadata": {},
     "output_type": "execute_result"
    }
   ],
   "source": [
    "platforms['party'].value_counts()"
   ]
  },
  {
   "cell_type": "markdown",
   "metadata": {},
   "source": [
    "### State of the Union Addresses"
   ]
  },
  {
   "cell_type": "code",
   "execution_count": 6,
   "metadata": {},
   "outputs": [
    {
     "data": {
      "text/html": [
       "<div>\n",
       "<style scoped>\n",
       "    .dataframe tbody tr th:only-of-type {\n",
       "        vertical-align: middle;\n",
       "    }\n",
       "\n",
       "    .dataframe tbody tr th {\n",
       "        vertical-align: top;\n",
       "    }\n",
       "\n",
       "    .dataframe thead th {\n",
       "        text-align: right;\n",
       "    }\n",
       "</style>\n",
       "<table border=\"1\" class=\"dataframe\">\n",
       "  <thead>\n",
       "    <tr style=\"text-align: right;\">\n",
       "      <th></th>\n",
       "      <th>president</th>\n",
       "      <th>year</th>\n",
       "      <th>party</th>\n",
       "      <th>speech</th>\n",
       "    </tr>\n",
       "  </thead>\n",
       "  <tbody>\n",
       "    <tr>\n",
       "      <td>Richard Nixon-1972</td>\n",
       "      <td>Richard Nixon</td>\n",
       "      <td>1972</td>\n",
       "      <td>Republican</td>\n",
       "      <td>\\nMr. Speaker, Mr. President, my colleagues in...</td>\n",
       "    </tr>\n",
       "    <tr>\n",
       "      <td>Richard Nixon-1974</td>\n",
       "      <td>Richard Nixon</td>\n",
       "      <td>1974</td>\n",
       "      <td>Republican</td>\n",
       "      <td>\\nMr. Speaker, Mr. President, my colleagues in...</td>\n",
       "    </tr>\n",
       "    <tr>\n",
       "      <td>Gerald R. Ford-1975</td>\n",
       "      <td>Gerald R. Ford</td>\n",
       "      <td>1975</td>\n",
       "      <td>Republican</td>\n",
       "      <td>\\nMr. Speaker, Mr. Vice President, Members of ...</td>\n",
       "    </tr>\n",
       "    <tr>\n",
       "      <td>Gerald R. Ford-1976</td>\n",
       "      <td>Gerald R. Ford</td>\n",
       "      <td>1976</td>\n",
       "      <td>Republican</td>\n",
       "      <td>\\nMr. Speaker, Mr. Vice President, Members of ...</td>\n",
       "    </tr>\n",
       "    <tr>\n",
       "      <td>Gerald R. Ford-1977</td>\n",
       "      <td>Gerald R. Ford</td>\n",
       "      <td>1977</td>\n",
       "      <td>Republican</td>\n",
       "      <td>\\nMr. Speaker, Mr. Vice President, Members of ...</td>\n",
       "    </tr>\n",
       "  </tbody>\n",
       "</table>\n",
       "</div>"
      ],
      "text/plain": [
       "                          president  year       party  \\\n",
       "Richard Nixon-1972    Richard Nixon  1972  Republican   \n",
       "Richard Nixon-1974    Richard Nixon  1974  Republican   \n",
       "Gerald R. Ford-1975  Gerald R. Ford  1975  Republican   \n",
       "Gerald R. Ford-1976  Gerald R. Ford  1976  Republican   \n",
       "Gerald R. Ford-1977  Gerald R. Ford  1977  Republican   \n",
       "\n",
       "                                                                speech  \n",
       "Richard Nixon-1972   \\nMr. Speaker, Mr. President, my colleagues in...  \n",
       "Richard Nixon-1974   \\nMr. Speaker, Mr. President, my colleagues in...  \n",
       "Gerald R. Ford-1975  \\nMr. Speaker, Mr. Vice President, Members of ...  \n",
       "Gerald R. Ford-1976  \\nMr. Speaker, Mr. Vice President, Members of ...  \n",
       "Gerald R. Ford-1977  \\nMr. Speaker, Mr. Vice President, Members of ...  "
      ]
     },
     "execution_count": 6,
     "metadata": {},
     "output_type": "execute_result"
    }
   ],
   "source": [
    "speeches = scrape_SotU()\n",
    "speeches.head()"
   ]
  },
  {
   "cell_type": "code",
   "execution_count": 8,
   "metadata": {},
   "outputs": [
    {
     "data": {
      "text/plain": [
       "Republican    25\n",
       "Democratic    17\n",
       "Name: party, dtype: int64"
      ]
     },
     "execution_count": 8,
     "metadata": {},
     "output_type": "execute_result"
    }
   ],
   "source": [
    "speeches['party'].value_counts()"
   ]
  },
  {
   "cell_type": "code",
   "execution_count": null,
   "metadata": {},
   "outputs": [],
   "source": []
  }
 ],
 "metadata": {
  "kernelspec": {
   "display_name": "Python 3",
   "language": "python",
   "name": "python3"
  },
  "language_info": {
   "codemirror_mode": {
    "name": "ipython",
    "version": 3
   },
   "file_extension": ".py",
   "mimetype": "text/x-python",
   "name": "python",
   "nbconvert_exporter": "python",
   "pygments_lexer": "ipython3",
   "version": "3.7.4"
  }
 },
 "nbformat": 4,
 "nbformat_minor": 2
}
